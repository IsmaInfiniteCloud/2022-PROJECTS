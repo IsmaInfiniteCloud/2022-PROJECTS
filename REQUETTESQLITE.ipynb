{
  "nbformat": 4,
  "nbformat_minor": 0,
  "metadata": {
    "colab": {
      "provenance": [],
      "authorship_tag": "ABX9TyNSeEipYlxH44cXI0MRrq4y",
      "include_colab_link": true
    },
    "kernelspec": {
      "name": "python3",
      "display_name": "Python 3"
    },
    "language_info": {
      "name": "python"
    }
  },
  "cells": [
    {
      "cell_type": "markdown",
      "metadata": {
        "id": "view-in-github",
        "colab_type": "text"
      },
      "source": [
        "<a href=\"https://colab.research.google.com/github/manou141/2022-PROJECTS/blob/main/REQUETTESQLITE.ipynb\" target=\"_parent\"><img src=\"https://colab.research.google.com/assets/colab-badge.svg\" alt=\"Open In Colab\"/></a>"
      ]
    },
    {
      "cell_type": "code",
      "execution_count": 5,
      "metadata": {
        "colab": {
          "base_uri": "https://localhost:8080/"
        },
        "id": "kV8KQdnlOPZD",
        "outputId": "6ce16183-302f-4003-ada2-45d7bdc89ec4"
      },
      "outputs": [
        {
          "output_type": "stream",
          "name": "stdout",
          "text": [
            "Connexion établie avec succès\n",
            "(123, 'Quadrant', 'The Best Of Billy Cobham', 'Billy Cobham')\n",
            "(124, \"Snoopy's search-Red baron\", 'The Best Of Billy Cobham', 'Billy Cobham')\n",
            "(125, 'Spanish moss-\"A sound portrait\"-Spanish moss', 'The Best Of Billy Cobham', 'Billy Cobham')\n",
            "(126, 'Moon germs', 'The Best Of Billy Cobham', 'Billy Cobham')\n",
            "(127, 'Stratus', 'The Best Of Billy Cobham', 'Billy Cobham')\n",
            "(128, 'The pleasant pheasant', 'The Best Of Billy Cobham', 'Billy Cobham')\n",
            "(129, 'Solo-Panhandler', 'The Best Of Billy Cobham', 'Billy Cobham')\n",
            "(130, 'Do what cha wanna', 'The Best Of Billy Cobham', 'Billy Cobham')\n"
          ]
        }
      ],
      "source": [
        "import sqlite3\n",
        "from sqlite3 import Error\n",
        "\n",
        "try:\n",
        "    conn = sqlite3.connect(\"/content/sample_data/DB_Exemple.db\")\n",
        "except Error as e:\n",
        "    print(e)\n",
        "else:\n",
        "    print(\"Connexion établie avec succès\")\n",
        "\n",
        "select_pistes_query = \"\"\"\n",
        "SELECT \n",
        "      trackid,\n",
        "      tracks.name AS Track,\n",
        "      albums.title AS Album,\n",
        "      artists.name AS Artist\n",
        "FROM \n",
        "    tracks\n",
        "INNER JOIN albums ON albums.albumid = tracks.albumid\n",
        "INNER JOIN artists ON artists.artistid = albums.artistid\n",
        "WHERE\n",
        "    artists.artistid = 10;\n",
        "\"\"\"\n",
        "try:\n",
        "    cursor = conn.cursor()\n",
        "    cursor.execute(select_pistes_query)\n",
        "    for row in cursor.fetchall():\n",
        "        print(row)\n",
        "except Error as er:\n",
        "    print(er)\n"
      ]
    },
    {
      "cell_type": "code",
      "source": [
        "import sqlite3\n",
        "from sqlite3 import Error\n",
        "\n",
        "try:\n",
        "    conn = sqlite3.connect(\"/content/sample_data/DB_Exemple.db\")\n",
        "except Error as e:\n",
        "    print(e)\n",
        "else:\n",
        "    print(\"Connexion établie avec succès\")\n",
        "\n",
        "select_nb_pistes_par_album_query = \"\"\"\n",
        "SELECT \n",
        "      tracks.albumid,\n",
        "      title,\n",
        "      COUNT(trackid) as nombrePiste\n",
        "FROM \n",
        "    tracks\n",
        "INNER JOIN albums ON albums.albumid = tracks.albumid\n",
        "GROUP BY\n",
        "  tracks.albumid\n",
        "  ORDER BY nombrePiste DESC\n",
        "  LIMIT 15;\n",
        "\"\"\"\n",
        "try:\n",
        "    cursor = conn.cursor()\n",
        "    cursor.execute(select_nb_pistes_par_album_query)\n",
        "    for row in cursor.fetchall():\n",
        "        print(row)\n",
        "except Error as er:\n",
        "    print(er)\n"
      ],
      "metadata": {
        "colab": {
          "base_uri": "https://localhost:8080/"
        },
        "id": "X4FZ4wrvS4UC",
        "outputId": "7540569d-f6e5-4b81-afc5-1bd7935955bb"
      },
      "execution_count": 21,
      "outputs": [
        {
          "output_type": "stream",
          "name": "stdout",
          "text": [
            "Connexion établie avec succès\n",
            "(141, 'Greatest Hits', 57)\n",
            "(23, 'Minha Historia', 34)\n",
            "(73, 'Unplugged', 30)\n",
            "(229, 'Lost, Season 3', 26)\n",
            "(230, 'Lost, Season 1', 25)\n",
            "(251, 'The Office, Season 3', 25)\n",
            "(83, 'My Way: The Best Of Frank Sinatra [Disc 1]', 24)\n",
            "(231, 'Lost, Season 2', 24)\n",
            "(253, 'Battlestar Galactica (Classic), Season 1', 24)\n",
            "(24, 'Afrociberdelia', 23)\n",
            "(228, 'Heroes, Season 1', 23)\n",
            "(255, 'Instant Karma: The Amnesty International Campaign to Save Darfur', 23)\n",
            "(51, \"Up An' Atom\", 22)\n",
            "(224, 'Acústico', 22)\n",
            "(250, 'The Office, Season 2', 22)\n"
          ]
        }
      ]
    },
    {
      "cell_type": "code",
      "source": [
        "\n"
      ],
      "metadata": {
        "colab": {
          "base_uri": "https://localhost:8080/"
        },
        "id": "MDD9bRsRUjdK",
        "outputId": "3f66c496-f6a1-4b23-9ed7-8bd1ef9c678a"
      },
      "execution_count": 24,
      "outputs": [
        {
          "output_type": "stream",
          "name": "stdout",
          "text": [
            "Connexion établie avec succès\n",
            "no such column: TRACKS.ALBUMSID\n"
          ]
        }
      ]
    },
    {
      "cell_type": "code",
      "source": [
        "import sqlite3\n",
        "from sqlite3 import Error\n",
        "\n",
        "try:\n",
        "    conn = sqlite3.connect(\"/content/sample_data/DB_Exemple.db\")\n",
        "except Error as e:\n",
        "    print(e)\n",
        "else:\n",
        "    print(\"Connexion établie avec succès\")\n",
        "\n",
        "select_nb_factures_par_annee = \"\"\"\n",
        "SELECT \n",
        "  STRFTIME('%Y',InvoiceDate) InvoiceYear,\n",
        "  COUNT (InvoiceId) InvoiceCount\n",
        "FROM \n",
        "    invoices\n",
        "GROUP BY\n",
        "  InvoiceYear\n",
        "ORDER BY \n",
        "  InvoiceYear;\n",
        "\"\"\"\n",
        "try:\n",
        "    cursor = conn.cursor()\n",
        "    cursor.execute(select_nb_factures_par_annee)\n",
        "    for row in cursor.fetchall():\n",
        "        print(row)\n",
        "except Error as er:\n",
        "    print(er)\n"
      ],
      "metadata": {
        "id": "IuKTtxuJWZgs"
      },
      "execution_count": null,
      "outputs": []
    },
    {
      "cell_type": "code",
      "source": [
        "\n",
        "import sqlite3\n",
        "from sqlite3 import Error\n",
        "\n",
        "try:\n",
        "    conn = sqlite3.connect(\"/content/sample_data/DB_Exemple.db\")\n",
        "except Error as e:\n",
        "    print(e)\n",
        "else:\n",
        "    print(\"Connexion établie avec succès\")\n",
        "\n",
        "select_albums_len_plus_6000000_query = \"\"\"\n",
        "SELECT \n",
        " tracks.albumid,\n",
        " albums.title,\n",
        " SUM(milliseconds) AS length\n",
        "FROM \n",
        "    tracks\n",
        "    INNER JOIN albums ON albums.albumid = tracks.albumid\n",
        "GROUP BY\n",
        "  tracks.albumid\n",
        "HAVING\n",
        "  length > 6000000\n",
        "ORDER BY \n",
        "  length DESC;\n",
        "\"\"\"\n",
        "try:\n",
        "    cursor = conn.cursor()\n",
        "    cursor.execute(select_albums_len_plus_6000000_query)\n",
        "    for row in cursor.fetchall():\n",
        "        print(row)\n",
        "except Error as er:\n",
        "    print(er)\n",
        "\n"
      ],
      "metadata": {
        "colab": {
          "base_uri": "https://localhost:8080/"
        },
        "id": "bgVCN2DJXEz5",
        "outputId": "ce10e8ff-8729-4ce5-899b-5cabeec8a022"
      },
      "execution_count": 28,
      "outputs": [
        {
          "output_type": "stream",
          "name": "stdout",
          "text": [
            "Connexion établie avec succès\n",
            "(229, 'Lost, Season 3', 70665582)\n",
            "(253, 'Battlestar Galactica (Classic), Season 1', 70213784)\n",
            "(230, 'Lost, Season 1', 64854936)\n",
            "(231, 'Lost, Season 2', 63289631)\n",
            "(228, 'Heroes, Season 1', 59780268)\n",
            "(227, 'Battlestar Galactica, Season 3', 52787041)\n",
            "(261, 'LOST, Season 4', 39468433)\n",
            "(251, 'The Office, Season 3', 38317095)\n",
            "(250, 'The Office, Season 2', 28636206)\n",
            "(141, 'Greatest Hits', 15065731)\n",
            "(73, 'Unplugged', 8113276)\n",
            "(249, 'The Office, Season 1', 7975164)\n",
            "(23, 'Minha Historia', 7875643)\n"
          ]
        }
      ]
    }
  ]
}