{
  "nbformat": 4,
  "nbformat_minor": 0,
  "metadata": {
    "colab": {
      "provenance": [],
      "authorship_tag": "ABX9TyPhn9rPhK5+sntKiO9CFVNJ",
      "include_colab_link": true
    },
    "kernelspec": {
      "name": "python3",
      "display_name": "Python 3"
    },
    "language_info": {
      "name": "python"
    }
  },
  "cells": [
    {
      "cell_type": "markdown",
      "metadata": {
        "id": "view-in-github",
        "colab_type": "text"
      },
      "source": [
        "<a href=\"https://colab.research.google.com/github/manou141/2022-PROJECTS/blob/main/MonPremierProjetPythonCour2.ipynb\" target=\"_parent\"><img src=\"https://colab.research.google.com/assets/colab-badge.svg\" alt=\"Open In Colab\"/></a>"
      ]
    },
    {
      "cell_type": "markdown",
      "source": [
        "ca cest un commentaire de test "
      ],
      "metadata": {
        "id": "xWV5nxSjPH4E"
      }
    },
    {
      "cell_type": "code",
      "source": [
        "import math as m\n",
        "sac = m.sqrt(6)\n",
        "print(sac)"
      ],
      "metadata": {
        "colab": {
          "base_uri": "https://localhost:8080/"
        },
        "id": "WcpTm247Oo35",
        "outputId": "a2fc98cc-d7f2-453d-e48e-5a928cc68c41"
      },
      "execution_count": 4,
      "outputs": [
        {
          "output_type": "stream",
          "name": "stdout",
          "text": [
            "2.449489742783178\n"
          ]
        }
      ]
    },
    {
      "cell_type": "code",
      "execution_count": 2,
      "metadata": {
        "colab": {
          "base_uri": "https://localhost:8080/"
        },
        "id": "WiY-fZcONJ1x",
        "outputId": "01c3dfcb-0b3c-49bc-e28d-4b35986cfbea"
      },
      "outputs": [
        {
          "output_type": "stream",
          "name": "stdout",
          "text": [
            "Tue Feb  7 23:34:26 2023\n",
            "Welcome my friend !\n"
          ]
        }
      ],
      "source": [
        "import time\n",
        "print(time.ctime())\n",
        "print(\"Welcome my friend !\")"
      ]
    },
    {
      "cell_type": "code",
      "source": [
        "import random\n",
        "rand = random.randint(1,18)\n",
        "\n",
        "print(rand)"
      ],
      "metadata": {
        "colab": {
          "base_uri": "https://localhost:8080/"
        },
        "id": "KS1N9JQ1Pxb0",
        "outputId": "fb81d611-d275-42a6-c6bf-e4817f96eddb"
      },
      "execution_count": 13,
      "outputs": [
        {
          "output_type": "stream",
          "name": "stdout",
          "text": [
            "10\n"
          ]
        }
      ]
    },
    {
      "cell_type": "code",
      "source": [
        "print(\"printed first\")\n",
        "import time \n",
        "time.sleep(6)\n",
        "print(\"printed first\")\n",
        "print(time.ctime())"
      ],
      "metadata": {
        "colab": {
          "base_uri": "https://localhost:8080/"
        },
        "id": "7eWU6uwbQr5K",
        "outputId": "48bcc42a-0c64-4e55-f55b-707ebd06366c"
      },
      "execution_count": 15,
      "outputs": [
        {
          "output_type": "stream",
          "name": "stdout",
          "text": [
            "printed first\n",
            "printed first\n",
            "Tue Feb  7 23:45:19 2023\n"
          ]
        }
      ]
    },
    {
      "cell_type": "code",
      "source": [
        "print(\"printed first\")\n",
        "import time \n",
        "time.sleep(0.5)\n",
        "print(\"printed second\")\n",
        "print(time.ctime())\n",
        "time.sleep(3)\n",
        "print(\"printed third\")\n",
        "print(time.ctime())"
      ],
      "metadata": {
        "colab": {
          "base_uri": "https://localhost:8080/"
        },
        "id": "6b71lG6vRDnY",
        "outputId": "505dd39a-b693-4efd-873a-9e9873dabfd5"
      },
      "execution_count": 16,
      "outputs": [
        {
          "output_type": "stream",
          "name": "stdout",
          "text": [
            "printed first\n",
            "printed second\n",
            "Tue Feb  7 23:46:04 2023\n",
            "printed third\n",
            "Tue Feb  7 23:46:07 2023\n"
          ]
        }
      ]
    }
  ]
}